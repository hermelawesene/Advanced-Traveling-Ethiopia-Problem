{
 "cells": [
  {
   "cell_type": "markdown",
   "metadata": {},
   "source": [
    "# Task 1"
   ]
  },
  {
   "cell_type": "code",
   "execution_count": 27,
   "metadata": {},
   "outputs": [],
   "source": [
    "graph = {\n",
    "    \"Adigrat\": [\"Mekelle\", \"Asmera\", \"Adwa\"],\n",
    "    \"Asmera\": [\"Adigrat\", \"Axum\"],\n",
    "    \"Adwa\": [\"Adigrat\", \"Axum\", \"Mekelle\"],\n",
    "    \"Axum\": [\"Asmera\", \"Adwa\", \"Shire\"],\n",
    "    \"Mekelle\": [\"Sekota\", \"Adwa\", \"Alamata\", \"Adigrat\"],\n",
    "    \"Shire\": [\"Debarke\", \"Humera\", \"Axum\"],\n",
    "    \"Sekota\": [\"Mekelle\", \"Alamata\", \"Lalibela\"],\n",
    "    \"Alamata\": [\"Woldia\", \"Sekota\", \"Mekelle\", \"Samara\"],\n",
    "    \"Debarke\": [\"Gondar\", \"Shire\"],\n",
    "    \"Humera\": [\"Kartum\", \"Gondar\", \"Shire\"],\n",
    "    \"Lalibela\": [\"DebreTabor\", \"Woldia\", \"Sekota\"],\n",
    "    \"Woldia\": [\"Lalibela\", \"Alamata\", \"Samara\", \"Dessie\"],\n",
    "    \"Samara\": [\"Alamata\", \"Woldia\", \"FantiRasu\", \"GabiRasu\"],\n",
    "    \"Gondar\": [\"Humera\", \"Debarke\", \"Metema\", \"Azezo\"],\n",
    "    \"Kartum\": [\"Metema\", \"Humera\"],\n",
    "    \"DebreTabor\": [\"Lalibela\", \"BahirDar\"],\n",
    "    \"Dessie\": [\"Woldia\", \"Kemise\"],\n",
    "    \"FantiRasu\": [\"Samara\", \"KilbetRasu\"],\n",
    "    \"GabiRasu\": [\"Samara\", \"Awash\"],\n",
    "    \"Metema\": [\"Gondar\", \"Azezo\", \"Kartum\"],\n",
    "    \"Azezo\": [\"Metema\", \"BahirDar\"],\n",
    "    \"BahirDar\": [\"Azezo\", \"DebreTabor\", \"Metekel\", \"Injibara\", \"FinoteSelam\"],\n",
    "    \"Kemise\": [\"Dessie\", \"DebreSina\"],\n",
    "    \"KilbetRasu\": [\"FantiRasu\"],\n",
    "    \"Awash\": [\"GabiRasu\", \"Matahara\", \"Chiro\"],\n",
    "    \"Metekel\": [\"BahirDar\", \"Assosa\"],\n",
    "    \"Injibara\": [\"BahirDar\", \"FinoteSelam\"],\n",
    "    \"FinoteSelam\": [\"BahirDar\", \"Injibara\", \"DebreMarkos\"],\n",
    "    \"DebreSina\": [\"Kemise\", \"DebreMarkos\", \"DebreBirhan\"],\n",
    "    \"Matahara\": [\"Awash\", \"Adama\"],\n",
    "    \"Chiro\": [\"Awash\", \"DireDewa\"],\n",
    "    \"Assosa\": [\"Metekel\", \"DembiDollo\"],\n",
    "    \"DebreMarkos\": [\"FinoteSelam\", \"DebreSina\"],\n",
    "    \"DebreBirhan\": [\"DebreSina\", \"AddisAbaba\"],\n",
    "    \"Adama\": [\"Matahara\", \"AddisAbaba\", \"Batu\", \"Assella\"],\n",
    "    \"DireDewa\": [\"Chiro\", \"Harar\"],\n",
    "    \"DembiDollo\": [\"Assosa\", \"Gambella\", \"Gimbi\"],\n",
    "    \"AddisAbaba\": [\"DebreBirhan\", \"Adama\", \"Ambo\"],\n",
    "    \"Batu\": [\"Adama\", \"Shashemene\", \"ButaJira\"],\n",
    "    \"Assella\": [\"Adama\", \"Assasa\"],\n",
    "    \"Harar\": [\"DireDewa\", \"Babile\"],\n",
    "    \"Gambella\": [\"DembiDollo\", \"Gore\"],\n",
    "    \"Gimbi\": [\"DembiDollo\", \"Nekemete\"],\n",
    "    \"Ambo\": [\"AddisAbaba\", \"Nekemete\", \"Wolkite\"],\n",
    "    \"ButaJira\": [\"Batu\", \"Worabe\"],\n",
    "    \"Shashemene\": [\"Batu\", \"Hossana\", \"Hawassa\", \"Dodolla\"],\n",
    "    \"Assasa\": [\"Assella\", \"Dodolla\"],\n",
    "    \"Babile\": [\"Harar\", \"Jigjiga\"],\n",
    "    \"Gore\": [\"Gambella\", \"Tepi\", \"Bedelle\"],\n",
    "    \"Nekemete\": [\"Gimbi\", \"Bedelle\", \"Ambo\"],\n",
    "    \"Wolkite\": [\"Ambo\", \"Worabe\", \"Jimma\"],\n",
    "    \"Worabe\": [\"ButaJira\", \"Wolkite\", \"Hossana\"],\n",
    "    \"Hossana\": [\"Worabe\", \"WolaitaSodo\", \"Shashemene\"],\n",
    "    \"Hawassa\": [\"Shashemene\", \"Dilla\"],\n",
    "    \"Dodolla\": [\"Shashemene\", \"Assasa\", \"Bale\"],\n",
    "    \"Jigjiga\": [\"Babile\", \"DegaHabur\"],\n",
    "    \"Tepi\": [\"Gore\", \"MizanTeferi\", \"Bonga\"],\n",
    "    \"Bedelle\": [\"Gore\", \"Nekemete\", \"Jimma\"],\n",
    "    \"Jimma\": [\"Bedelle\", \"Wolkite\", \"Bonga\"],\n",
    "    \"WolaitaSodo\": [\"Hossana\", \"Dawro\", \"ArbaMinch\"],\n",
    "    \"Dilla\": [\"Hawassa\", \"BuleHora\"],\n",
    "    \"Bale\": [\"Dodolla\", \"Liben\", \"Goba\", \"SofOumer\"],\n",
    "    \"DegaHabur\": [\"Jigjiga\", \"Goba\", \"KebriDehar\"],\n",
    "    \"MizanTeferi\": [\"Tepi\", \"Bonga\", \"Basketo\"],\n",
    "    \"Bonga\": [\"Tepi\", \"MizanTeferi\", \"Jimma\", \"Dawro\"],\n",
    "    \"Dawro\": [\"Bonga\", \"Basketo\", \"WolaitaSodo\"],\n",
    "    \"ArbaMinch\": [\"WolaitaSodo\", \"Basketo\", \"Konso\"],\n",
    "    \"BuleHora\": [\"Dilla\", \"Yabello\"],\n",
    "    \"Liben\": [\"Bale\"],\n",
    "    \"Goba\": [\"Bale\", \"SofOumer\", \"DegaHabur\"],\n",
    "    \"SofOumer\": [\"Goba\", \"Bale\", \"KebriDehar\"],\n",
    "    \"KebriDehar\": [\"DegaHabur\", \"SofOumer\", \"Werder\", \"Gode\"],\n",
    "    \"Basketo\": [\"MizanTeferi\", \"Dawro\", \"BenchMaji\", \"ArbaMinch\"],\n",
    "    \"Konso\": [\"ArbaMinch\", \"Yabello\"],\n",
    "    \"Yabello\": [\"Konso\", \"Moyale\", \"BuleHora\"],\n",
    "    \"Gode\": [\"KebriDehar\", \"Dollo\", \"Mokadisho\"],\n",
    "    \"Werder\": [\"KebriDehar\"],\n",
    "    \"BenchMaji\": [\"Basketo\", \"Juba\"],\n",
    "    \"Moyale\": [\"Yabello\", \"Nairobi\"],\n",
    "    \"Dollo\": [\"Gode\"],\n",
    "    \"Mokadisho\": [\"Gode\"],\n",
    "    \"Juba\": [\"BenchMaji\"],\n",
    "    \"Nairobi\": [\"Moyale\"],\n",
    "}"
   ]
  },
  {
   "cell_type": "markdown",
   "metadata": {},
   "source": [
    "## BFS"
   ]
  },
  {
   "cell_type": "code",
   "execution_count": 28,
   "metadata": {},
   "outputs": [
    {
     "name": "stdout",
     "output_type": "stream",
     "text": [
      "Adigrat, Mekelle, Asmera, Adwa, Sekota, Alamata, Axum, Lalibela, Woldia, Samara, Shire, DebreTabor, Dessie, FantiRasu, GabiRasu, Debarke, Humera, BahirDar, Kemise, KilbetRasu, Awash, Gondar, Kartum, Azezo, Metekel, Injibara, FinoteSelam, DebreSina, Matahara, Chiro, Metema, Assosa, DebreMarkos, DebreBirhan, Adama, DireDewa, DembiDollo, AddisAbaba, Goal Node Found\n"
     ]
    }
   ],
   "source": [
    "visited = []\n",
    "queue = []\n",
    "\n",
    "def bfs(visited, graph, start_node, goal_node):\n",
    "  visited.append(start_node)\n",
    "  queue.append(start_node)\n",
    "\n",
    "  while queue:\n",
    "    m = queue.pop(0)\n",
    "    print(m, end = \", \")\n",
    "    if m == goal_node:\n",
    "      print(\"Goal Node Found\")\n",
    "      return\n",
    "    for neighbour in graph[m]:\n",
    "      if neighbour not in visited:\n",
    "        visited.append(neighbour)\n",
    "        queue.append(neighbour)\n",
    "bfs(visited, graph, \"Adigrat\", \"AddisAbaba\")"
   ]
  },
  {
   "cell_type": "markdown",
   "metadata": {},
   "source": [
    "## DFS"
   ]
  },
  {
   "cell_type": "code",
   "execution_count": 30,
   "metadata": {},
   "outputs": [
    {
     "name": "stdout",
     "output_type": "stream",
     "text": [
      "Adigrat\n",
      "Mekelle\n",
      "Sekota\n",
      "Alamata\n",
      "Woldia\n",
      "Lalibela\n",
      "DebreTabor\n",
      "BahirDar\n",
      "Azezo\n",
      "Metema\n",
      "Gondar\n",
      "Humera\n",
      "Kartum\n",
      "Shire\n",
      "Debarke\n",
      "Axum\n",
      "Asmera\n",
      "Adwa\n",
      "Metekel\n",
      "Assosa\n",
      "DembiDollo\n",
      "Gambella\n",
      "Gore\n",
      "Tepi\n",
      "MizanTeferi\n",
      "Bonga\n",
      "Jimma\n",
      "Bedelle\n",
      "Nekemete\n",
      "Gimbi\n",
      "Ambo\n",
      "AddisAbaba\n",
      "Goal Node Found  AddisAbaba\n"
     ]
    },
    {
     "data": {
      "text/plain": [
       "True"
      ]
     },
     "execution_count": 30,
     "metadata": {},
     "output_type": "execute_result"
    }
   ],
   "source": [
    "visited = set()\n",
    "def dfs(visited, graph, start_node, goal_node):\n",
    "    if start_node not in visited:\n",
    "        print(start_node)\n",
    "        visited.add(start_node)\n",
    "        if start_node == goal_node:\n",
    "            print(f\"Goal Node Found \", start_node)\n",
    "            return True \n",
    "        for neighbour in graph[start_node]:\n",
    "            if dfs(visited, graph, neighbour, goal_node): \n",
    "                return True  \n",
    "    return False\n",
    "dfs(visited, graph, \"Adigrat\", \"AddisAbaba\")"
   ]
  },
  {
   "cell_type": "markdown",
   "metadata": {},
   "source": [
    "# Task 2"
   ]
  },
  {
   "cell_type": "code",
   "execution_count": 31,
   "metadata": {},
   "outputs": [],
   "source": [
    "graph = {\n",
    "    \"Adigrat\": {\"Mekelle\" : 4, \"Asmera\" : 6, \"Adwa\" : 4},\n",
    "    \"Asmera\": {\"Adigrat\" : 6, \"Axum\" : 5},\n",
    "    \"Adwa\": {\"Adigrat\" : 4, \"Axum\" : 1, \"Mekelle\" : 1},\n",
    "    \"Axum\": {\"Asmera\" : 5, \"Adwa\" : 1, \"Shire\" : 2},\n",
    "    \"Mekelle\": {\"Sekota\":9, \"Adwa\":7, \"Alamata\" : 5, \"Adigrat\" : 4},\n",
    "    \"Shire\": {\"Debarke\" : 7, \"Humera\" : 8, \"Axum\" : 2},\n",
    "    \"Sekota\": {\"Mekelle\": 9, \"Alamata\":6, \"Lalibela\": 6},\n",
    "    \"Alamata\": {\"Woldia\" : 3, \"Sekota\" : 6, \"Mekelle\" : 5, \"Samara\" : 11},\n",
    "    \"Debarke\": {\"Gondar\" : 4, \"Shire\" : 7},\n",
    "    \"Humera\": {\"Kartum\" : 21, \"Gondar\" : 9, \"Shire\" : 8},\n",
    "    \"Lalibela\": {\"DebreTabor\" : 8, \"Woldia\" : 7, \"Sekota\" : 6},\n",
    "    \"Woldia\": {\"Lalibela\" : 7, \"Alamata\" : 3, \"Samara\" : 8, \"Dessie\" : 6},\n",
    "    \"Samara\": {\"Alamata\" : 11, \"Woldia\" : 8, \"FantiRasu\" : 7, \"GabiRasu\" : 9},\n",
    "    \"Gondar\": {\"Humera\" : 9, \"Debarke\" : 4, \"Metema\" : 7, \"Azezo\" : 1},\n",
    "    \"Kartum\": {\"Metema\" : 19, \"Humera\" : 21},\n",
    "    \"DebreTabor\": {\"Lalibela\" : 8, \"BahirDar\" : 4},\n",
    "    \"Dessie\": {\"Woldia\" : 6, \"Kemise\" : 4},\n",
    "    \"FantiRasu\": {\"Samara\" : 7, \"KilbetRasu\" : 6},\n",
    "    \"GabiRasu\": {\"Samara\" : 9, \"Awash\" : 5},\n",
    "    \"Metema\": {\"Gondar\" : 7, \"Azezo\" : 7, \"Kartum\" : 19},\n",
    "    \"Azezo\": {\"Metema\" : 7, \"BahirDar\" : 7},\n",
    "    \"BahirDar\": {\"Azezo\" : 7, \"DebreTabor\" : 4, \"Metekel\" : 11, \"Injibara\" : 4, \"FinoteSelam\" : 6},\n",
    "    \"Kemise\": {\"Dessie\" : 4, \"DebreSina\" : 6},\n",
    "    \"KilbetRasu\": {\"FantiRasu\" : 6},\n",
    "    \"Awash\": {\"GabiRasu\" : 5, \"Matahara\" : 1, \"Chiro\" : 4},\n",
    "    \"Metekel\": {\"BahirDar\" : 11},\n",
    "    \"Injibara\": {\"BahirDar\" : 4, \"FinoteSelam\" : 2},\n",
    "    \"FinoteSelam\": {\"BahirDar\" : 6, \"Injibara\" : 2, \"DebreMarkos\" : 3},\n",
    "    \"DebreSina\": {\"Kemise\" : 6, \"DebreMarkos\" : 17, \"DebreBirhan\" : 2},\n",
    "    \"Matahara\": {\"Awash\" : 1, \"Adama\" : 3},\n",
    "    \"Chiro\": {\"Awash\" : 4, \"DireDewa\" : 8},\n",
    "    \"Assosa\": {\"DembiDollo\" : 12},\n",
    "    \"DebreMarkos\": {\"FinoteSelam\" : 3, \"DebreSina\" : 17},\n",
    "    \"DebreBirhan\": {\"DebreSina\" : 2, \"AddisAbaba\" : 5},\n",
    "    \"Adama\": {\"Matahara\": 3, \"AddisAbaba\" : 3, \"Batu\" : 4, \"Assella\" : 4},\n",
    "    \"DireDewa\": {\"Chiro\" : 8, \"Harar\" : 4},\n",
    "    \"DembiDollo\": {\"Assosa\" : 12, \"Gambella\" : 4, \"Gimbi\" :6},\n",
    "    \"AddisAbaba\": {\"DebreBirhan\" : 5, \"Adama\" :3, \"Ambo\" :5},\n",
    "    \"Batu\": {\"Adama\" : 4, \"Shashemene\" : 3, \"ButaJira\" : 2},\n",
    "    \"Assella\": {\"Adama\" : 4, \"Assasa\" : 4},\n",
    "    \"Harar\": {\"DireDewa\" : 4, \"Babile\" : 2},\n",
    "    \"Gambella\": {\"DembiDollo\" : 4, \"Gore\" : 5},\n",
    "    \"Gimbi\": {\"DembiDollo\" : 6, \"Nekemete\" : 4},\n",
    "    \"Ambo\": {\"AddisAbaba\" : 5, \"Nekemete\" : 9, \"Wolkite\" : 6},\n",
    "    \"ButaJira\": {\"Batu\" :2, \"Worabe\" :2},\n",
    "    \"Shashemene\": {\"Batu\" : 3, \"Hossana\" : 1, \"Hawassa\" : 1, \"Dodolla\" : 3},\n",
    "    \"Assasa\": {\"Assella\" : 4, \"Dodolla\" : 1},\n",
    "    \"Babile\": {\"Harar\" : 2, \"Jigjiga\" : 3, \"Goba\" : 28},\n",
    "    \"Gore\": {\"Gambella\" : 5, \"Tepi\" : 9, \"Bedelle\" : 6},\n",
    "    \"Nekemete\": {\"Gimbi\" : 4, \"Bedelle\" : 0, \"Ambo\" : 9},\n",
    "    \"Wolkite\": {\"Ambo\" : 6, \"Worabe\" : 5, \"Jimma\" : 8},\n",
    "    \"Worabe\": {\"ButaJira\" : 2, \"Wolkite\" : 5, \"Hossana\" : 2},\n",
    "    \"Hossana\": {\"Worabe\" : 2, \"WolaitaSodo\" : 4, \"Shashemene\" : 7},\n",
    "    \"Hawassa\": {\"Shashemene\" : 1, \"Dilla\" : 3},\n",
    "    \"Dodolla\": {\"Shashemene\" : 3, \"Assasa\" : 1, \"Bale\" : 13},\n",
    "    \"Jigjiga\": {\"Babile\" : 3, \"DegaHabur\" : 5},\n",
    "    \"Tepi\": {\"Gore\" : 9, \"MizanTeferi\" : 4, \"Bonga\" : 8},\n",
    "    \"Bedelle\": {\"Gore\" : 6, \"Nekemete\" : 0, \"Jimma\" : 7},\n",
    "    \"Jimma\": {\"Bedelle\" : 7, \"Wolkite\" : 8, \"Bonga\" : 4},\n",
    "    \"WolaitaSodo\": {\"Hossana\" : 4, \"Dawro\" : 6, \"ArbaMinch\" : 0},\n",
    "    \"Dilla\": {\"Hawassa\" : 3, \"BuleHora\" : 4},\n",
    "    \"Bale\": {\"Dodolla\" : 13, \"Liben\" : 11, \"Goba\" : 18, \"SofOumer\" : 23},\n",
    "    \"DegaHabur\": {\"Jigjiga\" : 5, \"KebriDehar\" : 6},\n",
    "    \"MizanTeferi\": {\"Tepi\" : 4, \"Bonga\" : 4},\n",
    "    \"Bonga\": {\"Tepi\" : 8, \"MizanTeferi\" : 4, \"Jimma\" : 4, \"Dawro\" : 10},\n",
    "    \"Dawro\": {\"Bonga\" : 10, \"WolaitaSodo\" : 6},\n",
    "    \"ArbaMinch\": {\"WolaitaSodo\" : 0, \"Basketo\" : 10, \"Konso\" : 4},\n",
    "    \"BuleHora\": {\"Dilla\" : 4, \"Yabello\" : 3},\n",
    "    \"Liben\": {\"Bale\": 11},\n",
    "    \"Goba\": {\"Bale\" : 18, \"SofOumer\" : 6, \"Babile\" : 28},\n",
    "    \"SofOumer\": {\"Goba\" : 6, \"Bale\" : 23, \"Gode\" : 23},\n",
    "    \"KebriDehar\": {\"DegaHabur\" : 6, \"Gode\" : 5, \"Werder\" : 6},\n",
    "    \"Basketo\": {\"BenchMaji\" : 5, \"ArbaMinch\" : 10},\n",
    "    \"Konso\": {\"ArbaMinch\" : 4, \"Yabello\" : 3},\n",
    "    \"Yabello\": {\"Konso\" : 3, \"Moyale\" : 6, \"BuleHora\" : 3},\n",
    "    \"Gode\": {\"KebriDehar\" : 5, \"Dollo\" : 17, \"Mokadisho\" : 22},\n",
    "    \"Werder\": {\"KebriDehar\" : 6},\n",
    "    \"BenchMaji\": {\"Basketo\" : 5, \"Juba\" : 22},\n",
    "    \"Moyale\": {\"Yabello\" : 6, \"Nairobi\" : 22},\n",
    "    \"Dollo\": {\"Gode\" : 17},\n",
    "    \"Mokadisho\": {\"Gode\" : 22},\n",
    "    \"Juba\": {\"BenchMaji\" : 22},\n",
    "    \"Nairobi\": {\"Moyale\" : 22},\n",
    "}"
   ]
  },
  {
   "cell_type": "markdown",
   "metadata": {},
   "source": [
    "## UCS"
   ]
  },
  {
   "cell_type": "code",
   "execution_count": 20,
   "metadata": {},
   "outputs": [
    {
     "name": "stdout",
     "output_type": "stream",
     "text": [
      "Path from AddisAbaba to Lalibela: ['AddisAbaba', 'DebreBirhan', 'DebreSina', 'Kemise', 'Dessie', 'Woldia', 'Lalibela']\n",
      "Total cost: 30\n"
     ]
    }
   ],
   "source": [
    "import heapq\n",
    "\n",
    "def uniform_cost_search(graph, start, goal):\n",
    "    priority_queue = [(0, start, [start])]\n",
    "    visited = set()\n",
    "\n",
    "    while priority_queue:\n",
    "        cumulative_cost, current_node, path = heapq.heappop(priority_queue)\n",
    "        if current_node == goal:\n",
    "            return path, cumulative_cost \n",
    "        if current_node not in visited:\n",
    "            visited.add(current_node)\n",
    "            for neighbor, cost in graph[current_node].items():\n",
    "                if neighbor not in visited:\n",
    "                    heapq.heappush(\n",
    "                        priority_queue,\n",
    "                        (cumulative_cost + cost, neighbor, path + [neighbor]),\n",
    "                    )\n",
    "    return None, float(\"inf\")  \n",
    "\n",
    "start_city = \"AddisAbaba\"\n",
    "goal_city = \"Lalibela\"\n",
    "path, total_cost = uniform_cost_search(graph, start_city, goal_city)\n",
    "\n",
    "if path:\n",
    "    print(f\"Path from {start_city} to {goal_city}: {path}\")\n",
    "    print(f\"Total cost: {total_cost}\")\n",
    "else:\n",
    "    print(f\"No path found from {start_city} to {goal_city}.\")"
   ]
  },
  {
   "cell_type": "markdown",
   "metadata": {},
   "source": [
    "## UCS with multiple goal state"
   ]
  },
  {
   "cell_type": "code",
   "execution_count": 23,
   "metadata": {},
   "outputs": [
    {
     "name": "stdout",
     "output_type": "stream",
     "text": [
      "No path found to visit all goal states.\n"
     ]
    }
   ],
   "source": [
    "import heapq\n",
    "\n",
    "def customized_uniform_cost_search(graph, start, goals):\n",
    "    priority_queue = [(0, start, [start], set())]\n",
    "    visited = set()\n",
    "\n",
    "    while priority_queue:\n",
    "        cumulative_cost, current_node, path, visited_goals = heapq.heappop(priority_queue)\n",
    "        if current_node in goals:\n",
    "            visited_goals.add(current_node)\n",
    "        if visited_goals == goals:\n",
    "            return path, cumulative_cost\n",
    "        if current_node not in visited:\n",
    "            visited.add(current_node)\n",
    "            for neighbor, cost in graph[current_node].items():\n",
    "                if neighbor not in visited:\n",
    "                    heapq.heappush(\n",
    "                        priority_queue,\n",
    "                        (\n",
    "                            cumulative_cost + cost,\n",
    "                            neighbor,\n",
    "                            path + [neighbor],\n",
    "                            visited_goals.copy(),\n",
    "                        ),\n",
    "                    )\n",
    "\n",
    "    return None, float(\"inf\")  \n",
    "\n",
    "start_city = \"AddisAbaba\"\n",
    "goal_cities = {\"Axum\", \"Gondar\", \"Lalibela\", \"Babile\", \"Jimma\", \"Bale\", \"SofOumer\", \"ArbaMinch\"}\n",
    "path, total_cost = customized_uniform_cost_search(graph, start_city, goal_cities)\n",
    "\n",
    "if path:\n",
    "    print(f\"Path to visit all goal states: {path}\")\n",
    "    print(f\"Total cost: {total_cost}\")\n",
    "else:\n",
    "    print(\"No path found to visit all goal states.\")"
   ]
  },
  {
   "cell_type": "code",
   "execution_count": 32,
   "metadata": {},
   "outputs": [
    {
     "name": "stdout",
     "output_type": "stream",
     "text": [
      "No path found to visit all goal states.\n"
     ]
    }
   ],
   "source": [
    "import heapq\n",
    "\n",
    "def customized_uniform_cost_search(graph, start, goals):\n",
    "    # Priority queue to store (cumulative_cost, current_node, path, visited_goals)\n",
    "    priority_queue = [(0, start, [start], set())]\n",
    "    visited = set()\n",
    "\n",
    "    while priority_queue:\n",
    "        cumulative_cost, current_node, path, visited_goals = heapq.heappop(priority_queue)\n",
    "\n",
    "        # If the current node is a goal, add it to visited_goals\n",
    "        if current_node in goals:\n",
    "            visited_goals.add(current_node)\n",
    "\n",
    "        # If all goals are visited, return the path and total cost\n",
    "        if visited_goals == goals:\n",
    "            return path, cumulative_cost\n",
    "\n",
    "        if current_node not in visited:\n",
    "            visited.add(current_node)\n",
    "\n",
    "            for neighbor, cost in graph[current_node].items():\n",
    "                if neighbor not in visited:\n",
    "                    heapq.heappush(\n",
    "                        priority_queue,\n",
    "                        (\n",
    "                            cumulative_cost + cost,\n",
    "                            neighbor,\n",
    "                            path + [neighbor],\n",
    "                            visited_goals.copy(),\n",
    "                        ),\n",
    "                    )\n",
    "\n",
    "    return None, float(\"inf\")  # If no path is found\n",
    "\n",
    "\n",
    "# Example usage\n",
    "start_city = \"AddisAbaba\"\n",
    "goal_cities = {\"Axum\", \"Gondar\", \"Lalibela\", \"Babile\", \"Jimma\", \"Bale\", \"SofOumer\", \"ArbaMinch\"}\n",
    "path, total_cost = customized_uniform_cost_search(graph, start_city, goal_cities)\n",
    "\n",
    "if path:\n",
    "    print(f\"Path to visit all goal states: {path}\")\n",
    "    print(f\"Total cost: {total_cost}\")\n",
    "else:\n",
    "    print(\"No path found to visit all goal states.\")"
   ]
  },
  {
   "cell_type": "code",
   "execution_count": 25,
   "metadata": {},
   "outputs": [
    {
     "name": "stdout",
     "output_type": "stream",
     "text": [
      "{'Goba': 6, 'Bale': 23, 'Gode': 23}\n"
     ]
    }
   ],
   "source": [
    "print(graph.get(\"SofOumer\"))"
   ]
  },
  {
   "cell_type": "code",
   "execution_count": null,
   "metadata": {},
   "outputs": [],
   "source": []
  }
 ],
 "metadata": {
  "kernelspec": {
   "display_name": "base",
   "language": "python",
   "name": "python3"
  },
  "language_info": {
   "codemirror_mode": {
    "name": "ipython",
    "version": 3
   },
   "file_extension": ".py",
   "mimetype": "text/x-python",
   "name": "python",
   "nbconvert_exporter": "python",
   "pygments_lexer": "ipython3",
   "version": "3.11.7"
  }
 },
 "nbformat": 4,
 "nbformat_minor": 2
}
